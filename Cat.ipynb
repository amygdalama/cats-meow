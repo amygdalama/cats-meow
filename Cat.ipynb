{
 "metadata": {
  "name": ""
 },
 "nbformat": 3,
 "nbformat_minor": 0,
 "worksheets": [
  {
   "cells": [
    {
     "cell_type": "code",
     "collapsed": false,
     "input": [
      "# This line configures matplotlib to show figures embedded in the notebook, \n",
      "# instead of opening a new window for each figure. More about that later. \n",
      "%pylab inline\n",
      "import numpy as np\n",
      "import matplotlib.pyplot as plt"
     ],
     "language": "python",
     "metadata": {},
     "outputs": []
    },
    {
     "cell_type": "code",
     "collapsed": false,
     "input": [
      "t = np.arange(0,20)\n",
      "y = np.sin(t)"
     ],
     "language": "python",
     "metadata": {},
     "outputs": []
    },
    {
     "cell_type": "code",
     "collapsed": false,
     "input": [
      "plt.plot(t,y)"
     ],
     "language": "python",
     "metadata": {},
     "outputs": []
    },
    {
     "cell_type": "code",
     "collapsed": false,
     "input": [
      "def step(x, y, nx=10):\n",
      "    X = np.linspace(x.min(), x.max(), len(x)*nx)\n",
      "    Y = np.zeros(len(x)*nx)\n",
      "    #Y  = np.interp(X, x, y)\n",
      "    for i in xrange(0,len(x)):\n",
      "        for j in xrange(0,nx):\n",
      "            #print i*nx + j\n",
      "            Y[i*nx + j] = y[i]    \n",
      "    return X, Y"
     ],
     "language": "python",
     "metadata": {},
     "outputs": []
    },
    {
     "cell_type": "code",
     "collapsed": false,
     "input": [
      "def lerp(x, y, nx=326, nBlend=50):\n",
      "    X = np.linspace(x.min(), x.max(), len(x)*nx)\n",
      "    Y = np.zeros(len(x)*nx)\n",
      "    for i in xrange(0,len(x)):\n",
      "        for j in xrange(0,nx):\n",
      "            #print i*nx + j\n",
      "            Y[i*nx + j] = y[i]\n",
      "         \n",
      "    for i in xrange(0, len(x)-1):\n",
      "        if i == 0:\n",
      "            continue\n",
      "        X_temp = X[i*nx-nBlend:i*nx+nBlend+1]\n",
      "        x_temp = (X[i*nx-nBlend], X[i*nx+nBlend])\n",
      "        y_temp = y[i-1:i+1]\n",
      "#         print x_temp\n",
      "        Y[i*nx-nBlend:i*nx+nBlend+1] = np.interp(X_temp, x_temp, y_temp)\n",
      "    return X, Y"
     ],
     "language": "python",
     "metadata": {},
     "outputs": [],
     "prompt_number": 37
    },
    {
     "cell_type": "code",
     "collapsed": false,
     "input": [
      "#T,Y = step(t, y)\n",
      "T, Y = lerp(t, y)\n",
      "plt.plot(T,Y)"
     ],
     "language": "python",
     "metadata": {},
     "outputs": [
      {
       "metadata": {},
       "output_type": "pyout",
       "prompt_number": 38,
       "text": [
        "[<matplotlib.lines.Line2D at 0x10f307f10>]"
       ]
      },
      {
       "metadata": {},
       "output_type": "display_data",
       "png": "[encoded data removed]",
       "text": [
        "<matplotlib.figure.Figure at 0x10f1f6d50>"
       ]
      }
     ],
     "prompt_number": 38
    }
   ],
   "metadata": {}
  }
 ]
}